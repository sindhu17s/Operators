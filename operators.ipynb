{
 "cells": [
  {
   "cell_type": "code",
   "execution_count": 5,
   "metadata": {},
   "outputs": [
    {
     "name": "stdout",
     "output_type": "stream",
     "text": [
      "Addition: 1554\n",
      "Subtraction: -420\n",
      "Multiplication: 559629\n",
      "Division: 0.574468085106383\n",
      "Modulus: 567\n",
      "Exponential: 611616407247752695706298270734641990180235327568078338997283804158814349474270629442816931382671367542447405258214550869284320141625279537556608484658083336150626300798670202933793564446003462121555073832875423404951579613746885767294932055968846038683295371181459288977593716198601459672187113061969931122494845619602433684370975730212519766784414734472605796839309209599260889950625135432122065892625881460532886050517718710654738765581014532245883869664478919907238644734262540455593872315812243511356778717012898783966259391041337873838885706432927069522830556072236702096357321434300234909806363254390667338481165505723339166867118683838821629531952793553250631452485788565555808273889496266777500776851236022080814427512771244970003458412083674733840339946412623735251853252347357214315987762660220747953491963159413128839518467161210059643780104310175904404532807173622066275566701920345282031769464258459061553829468726082539534533722453169457662051421551096707463663615541068820227572153073558022621775557720188390263704504452812228826703183898894631853363985378792073069707331068879249884240289570543008958477870737460694482160025074362157710111864841848002203750302461517041262251977573384506817520506237338099932367299606453319897763853707768123537938811066369274796849974017506194450318755694113175043486451898808806003372021019192510009982211864200854423583474213375665907851497827034173988065961347228824527415437156247940342067322505276172990916725107073415336778761962338659867721966108282841264024229244876450278955258078789333151531678479131543316579619864992116926110640115888950035229205489968593642507486304204775405546938034670168863626188400493965663211524090796872779726951903537631748046580278858330747892738351795285342401346157479005883936948149285346282076734632908451325489561241303011532680942185224651973937863535301987598418515862219038489989634163657741756542109631568386378615448697855196686317906717403982621567512662782940503774437755200490328462990570818244084923772754717797068124096801979854705170406930594837598570687019339055586859939014213896678849672288473842159753362635349216601363991892219052890354244074580819497497381163019507607769067842169828396930397863537327000911395450043997125406583718873627149963872969986499672634076025895721308483941273619007990540929440697939321451111917955951451769438989247534179617159324654987786653630488063528170619625101222583160709405353335002836261853482884280404676386812171785493249860826778899978760678661962056359468418561448181585334053997714638303229759873409826837907386333870830802516380501369942793332751039573790508281661177511933535542625705768113487876823477448305115989222178806687938399388906963660899656368820541866023\n",
      "Flow-division: 0\n"
     ]
    }
   ],
   "source": [
    "#Operators\n",
    "\n",
    "#1-Arithmetic Operators\n",
    "\n",
    "#1)Addition(+)\n",
    "x=567\n",
    "y=987\n",
    "\n",
    "print(\"Addition:\",x+y)\n",
    "\n",
    "#2)Subtraction(-)\n",
    "\n",
    "print(\"Subtraction:\",x-y)\n",
    "\n",
    "#3)Multiplication(*)\n",
    "\n",
    "print(\"Multiplication:\",x*y)\n",
    "\n",
    "#4)Division(/)\n",
    "\n",
    "print(\"Division:\",x/y)\n",
    "\n",
    "#5)Modulus(%)\n",
    "\n",
    "print(\"Modulus:\",x%y)\n",
    "\n",
    "#6)Exponential(**)\n",
    " \n",
    "print(\"Exponential:\",x**y)\n",
    "\n",
    "#7)Flow-division(//)\n",
    "\n",
    "print(\"Flow-division:\",x//y)"
   ]
  },
  {
   "cell_type": "code",
   "execution_count": 12,
   "metadata": {},
   "outputs": [
    {
     "name": "stdout",
     "output_type": "stream",
     "text": [
      "50\n",
      "25\n",
      "700\n",
      "1\n",
      "972299657790850297934682879408841327201\n",
      "15\n",
      "6.571428571428571\n",
      "90\n",
      "16\n"
     ]
    }
   ],
   "source": [
    "#Assignment Operators\n",
    "\n",
    "a=30\n",
    "a+=20\n",
    "print(a)\n",
    "\n",
    "b=5\n",
    "b+=20\n",
    "print(b)\n",
    "\n",
    "c=35\n",
    "c*=20\n",
    "print(c)\n",
    "\n",
    "d=2347\n",
    "d%=6\n",
    "print(d)\n",
    "\n",
    "e=89\n",
    "e**=20\n",
    "print(e)\n",
    "\n",
    "f=45\n",
    "f//=3\n",
    "print(f)\n",
    "\n",
    "g=46\n",
    "g/=7\n",
    "print(g)\n",
    "\n",
    "h=67 \n",
    "h^=25\n",
    "print(h)\n",
    "\n",
    "i=560\n",
    "i&=16\n",
    "print(i)\n"
   ]
  },
  {
   "cell_type": "code",
   "execution_count": 9,
   "metadata": {},
   "outputs": [
    {
     "name": "stdout",
     "output_type": "stream",
     "text": [
      "False\n",
      "True\n",
      "True\n",
      "False\n",
      "True\n",
      "False\n"
     ]
    }
   ],
   "source": [
    "#3-Comparission Operators\n",
    "\n",
    "k=657\n",
    "p=345\n",
    "\n",
    "print(k==p) #equal\n",
    "\n",
    "print(k!=p) #not equal\n",
    "\n",
    "print(k>p) #greater than\n",
    "\n",
    "print(k<p) #less than\n",
    "\n",
    "print(k>=p) #greater than or equal\n",
    "\n",
    "print(k<=p) #less than or equal"
   ]
  },
  {
   "cell_type": "code",
   "execution_count": 13,
   "metadata": {},
   "outputs": [
    {
     "name": "stdout",
     "output_type": "stream",
     "text": [
      "True\n",
      "True\n",
      "True\n"
     ]
    }
   ],
   "source": [
    "#4-Logical Operators\n",
    "\n",
    "x=10\n",
    "print(x>8 and x>5) #logical and\n",
    "\n",
    "print(x>10 or x>5) #logical or\n",
    " \n",
    "print(not(x>10 and x>5)) #logical not"
   ]
  },
  {
   "cell_type": "code",
   "execution_count": 14,
   "metadata": {},
   "outputs": [
    {
     "name": "stdout",
     "output_type": "stream",
     "text": [
      "True\n",
      "False\n",
      "True\n",
      "True\n",
      "False\n"
     ]
    }
   ],
   "source": [
    "#5-Identity Operators\n",
    "\n",
    "#is\n",
    "\n",
    "list1=[124,545,685,906]\n",
    "list2=[673,643,887,42]\n",
    "x=list1\n",
    "print(x is list1)\n",
    "print(list1 is list2)\n",
    "\n",
    "#is not\n",
    "\n",
    "print(list1 is not list2)\n",
    "print(x is not list2)\n",
    "print(x is not list1)\n"
   ]
  },
  {
   "cell_type": "code",
   "execution_count": 47,
   "metadata": {},
   "outputs": [
    {
     "name": "stdout",
     "output_type": "stream",
     "text": [
      "False\n",
      "False\n",
      "True\n",
      "True\n",
      "True\n",
      "False\n"
     ]
    }
   ],
   "source": [
    "#6-Membership Operators\n",
    "\n",
    "#in\n",
    "\n",
    "print(x in list2) #returns false because we don't have x value in list2\n",
    "\n",
    "print(x in list1)\n",
    "\n",
    "print(153 in list1)\n",
    "\n",
    "\n",
    "#not in\n",
    "\n",
    "print(x not in list1)\n",
    "\n",
    "print(x not in list2)\n",
    "\n",
    "print(123 not in list1)"
   ]
  },
  {
   "cell_type": "code",
   "execution_count": 15,
   "metadata": {},
   "outputs": [
    {
     "name": "stdout",
     "output_type": "stream",
     "text": [
      "0\n",
      "11\n",
      "13\n",
      "-11\n",
      "48\n",
      "0\n"
     ]
    }
   ],
   "source": [
    "#7-Bitiwise Operators\n",
    "\n",
    "#Bitiwise AND(&)\n",
    "\n",
    "print(20 & 2)\n",
    "\n",
    "#Bitiwise OR(|)\n",
    "\n",
    "print(10 | 3)\n",
    "\n",
    "#Bitiwise XOR(^)\n",
    "\n",
    "print(15 ^ 2)\n",
    "\n",
    "#Bitiwise NOT(~)\n",
    "\n",
    "print(~10)\n",
    "\n",
    "#Left shift(<<)\n",
    "\n",
    "print(12 << 2)\n",
    "\n",
    "#Right shift(>>)\n",
    "\n",
    "print(10 >> 4)\n",
    "\n"
   ]
  }
 ],
 "metadata": {
  "kernelspec": {
   "display_name": "Python 3",
   "language": "python",
   "name": "python3"
  },
  "language_info": {
   "codemirror_mode": {
    "name": "ipython",
    "version": 3
   },
   "file_extension": ".py",
   "mimetype": "text/x-python",
   "name": "python",
   "nbconvert_exporter": "python",
   "pygments_lexer": "ipython3",
   "version": "3.11.9"
  }
 },
 "nbformat": 4,
 "nbformat_minor": 2
}
